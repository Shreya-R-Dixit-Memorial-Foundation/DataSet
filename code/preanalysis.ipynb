{
 "cells": [
  {
   "cell_type": "code",
   "execution_count": 1,
   "metadata": {},
   "outputs": [
    {
     "name": "stdout",
     "output_type": "stream",
     "text": [
      "49\n",
      "['ACCN', 'AGENCY', 'LOCCASE', 'HITRUN', 'PROPDAM', 'NUMMV', 'NUMFAT', 'NUMINJ', 'DOLMIN', 'ACCDATE', 'COUNTY', 'CITYTWP', 'CITYNAME', 'ACCTYPE', 'SBUS', 'LOCFHE', 'BRIDGE', 'WKZNTYPE', 'LOCWKZN', 'WORKERS', 'RDSURF', 'INTREL', 'WEATHER1', 'WEATHER2', 'LIGHT', 'DIAGRAM', 'OFFTYPE', 'INTERSECT', 'ACCSEV', 'CFR1', 'CFR2', 'FATAL', 'FATWKZN', 'INJURY', 'INTYPE', 'LANDOWN', 'LEPRES', 'NUMNM', 'ONROAD', 'RTSYS', 'WKZNREL', 'CITY', 'XCOORD', 'YCOORD', 'TOWNSHIP', 'ACCTIME', 'URBRURT', 'ACCDAY', 'ACCYEAR']\n",
      "79069\n"
     ]
    }
   ],
   "source": [
    "year = 2016\n",
    "\n",
    "if year < 2016:\n",
    "    base_path = f\"/Users/yd211/Documents/GitHub/DataSet/DVSCrashData/MN Crash Data {year}/{year}\"\n",
    "else:\n",
    "    base_path = f\"/Users/yd211/Documents/GitHub/DataSet/DVSCrashData/MN Crash Data {year}\"\n",
    "\n",
    "loc = f\"{base_path}/mn-{year}-acc.txt\"\n",
    "loc2 = f\"{base_path}/mn-{year}-per.txt\"\n",
    "loc3 = f\"{base_path}/mn-{year}-veh.txt\"\n",
    "\n",
    "file = open(loc, \"r\")\n",
    "\n",
    "head = file.readline().strip().split(\"\\t\")\n",
    "\n",
    "print(len(head))\n",
    "print(head)\n",
    "\n",
    "with open(loc, \"r\") as file:\n",
    "    total_lines = sum(1 for line in file)\n",
    "\n",
    "print(total_lines-1)"
   ]
  },
  {
   "cell_type": "code",
   "execution_count": 2,
   "metadata": {},
   "outputs": [
    {
     "name": "stdout",
     "output_type": "stream",
     "text": [
      "46\n",
      "['ACCN', 'RVN', 'nmaction', 'unitper', 'RPN', 'POSITN', 'DLSTATE', 'DLCLASS', 'DLSTAT', 'VIOLS', 'DLREST1', 'PHYSCND1', 'RECOMND', 'SEX', 'SAFEQP1', 'AIRBAG', 'EJECT', 'INJSEV', 'ALCTEST', 'ALCTYPE', 'DRUGTEST', 'DRUGTYPE', 'METHHOSP', 'DLZIP', 'PTYPE', 'DISTRACT', 'ALCSUSP', 'NEWBAC', 'SPEEDING', 'CFP1', 'CFP2', 'CFP3', 'CFP4', 'CHARGED', 'DLENDOR1', 'DLENDOR2', 'DLENDOR3', 'DLJURIS', 'DLREST2', 'DLREST3', 'DRUGRES', 'DRUGSUSP', 'NMLOCTN', 'PHYSCND2', 'SAFEQP2', 'AGE']\n"
     ]
    }
   ],
   "source": [
    "file2 = open(loc2, \"r\")\n",
    "\n",
    "head2 = file2.readline().strip().split(\"\\t\")\n",
    "\n",
    "print(len(head2))\n",
    "print(head2)"
   ]
  },
  {
   "cell_type": "code",
   "execution_count": 3,
   "metadata": {},
   "outputs": [
    {
     "name": "stdout",
     "output_type": "stream",
     "text": [
      "52\n",
      "['ACCN', 'RVN', 'FIRE', 'TOWAWAY', 'TRAILER', 'DIRECTN', 'VEHMAKE', 'VEHMODEL', 'VEHYEAR', 'VEHCOLOR', 'REGSTATE', 'REGYEAR', 'EVENT1', 'EVENT2', 'EVENT3', 'EVENT4', 'MOSTHE', 'CFV1', 'CFV2', 'ACTION', 'TOTOCC', 'VEHTYPE', 'VEHUSE', 'DAMAREA', 'DAMSEV', 'CARGOTP', 'HAZPLAC', 'WAIVED', 'RDDES', 'RDALIGN', 'RDGRADE', 'TRFCNTL', 'WORKING', 'SPEED', 'UNITVEH', 'BUSTYPE', 'CMV', 'CMVCONFIG', 'CMVCNTRY', 'CMVSTATE', 'CMVTYPE', 'DRCONTRL', 'EMGUSE', 'GVWR', 'HAZREL', 'HITRUNV', 'INS', 'LANES', 'PARKED', 'UNITFAT', 'UNITINJ', 'VIN']\n"
     ]
    }
   ],
   "source": [
    "file3 = open(loc3, \"r\")\n",
    "\n",
    "head3 = file3.readline().strip().split(\"\\t\")\n",
    "\n",
    "print(len(head3))\n",
    "print(head3)"
   ]
  },
  {
   "cell_type": "code",
   "execution_count": 4,
   "metadata": {},
   "outputs": [
    {
     "name": "stdout",
     "output_type": "stream",
     "text": [
      "['ACCDATE', 'ACCDAY', 'ACCN', 'ACCN', 'ACCN', 'ACCSEV', 'ACCTIME', 'ACCTYPE', 'ACCYEAR', 'ACTION', 'AGE', 'AGENCY', 'AIRBAG', 'ALCSUSP', 'ALCTEST', 'ALCTYPE', 'BRIDGE', 'BUSTYPE', 'CARGOTP', 'CFP1', 'CFP2', 'CFP3', 'CFP4', 'CFR1', 'CFR2', 'CFV1', 'CFV2', 'CHARGED', 'CITY', 'CITYNAME', 'CITYTWP', 'CMV', 'CMVCNTRY', 'CMVCONFIG', 'CMVSTATE', 'CMVTYPE', 'COUNTY', 'DAMAREA', 'DAMSEV', 'DIAGRAM', 'DIRECTN', 'DISTRACT', 'DLCLASS', 'DLENDOR1', 'DLENDOR2', 'DLENDOR3', 'DLJURIS', 'DLREST1', 'DLREST2', 'DLREST3', 'DLSTAT', 'DLSTATE', 'DLZIP', 'DOLMIN', 'DRCONTRL', 'DRUGRES', 'DRUGSUSP', 'DRUGTEST', 'DRUGTYPE', 'EJECT', 'EMGUSE', 'EVENT1', 'EVENT2', 'EVENT3', 'EVENT4', 'FATAL', 'FATWKZN', 'FIRE', 'GVWR', 'HAZPLAC', 'HAZREL', 'HITRUN', 'HITRUNV', 'INJSEV', 'INJURY', 'INS', 'INTERSECT', 'INTREL', 'INTYPE', 'LANDOWN', 'LANES', 'LEPRES', 'LIGHT', 'LOCCASE', 'LOCFHE', 'LOCWKZN', 'METHHOSP', 'MOSTHE', 'NEWBAC', 'NMLOCTN', 'NUMFAT', 'NUMINJ', 'NUMMV', 'NUMNM', 'OFFTYPE', 'ONROAD', 'PARKED', 'PHYSCND1', 'PHYSCND2', 'POSITN', 'PROPDAM', 'PTYPE', 'RDALIGN', 'RDDES', 'RDGRADE', 'RDSURF', 'RECOMND', 'REGSTATE', 'REGYEAR', 'RPN', 'RTSYS', 'RVN', 'RVN', 'SAFEQP1', 'SAFEQP2', 'SBUS', 'SEX', 'SPEED', 'SPEEDING', 'TOTOCC', 'TOWAWAY', 'TOWNSHIP', 'TRAILER', 'TRFCNTL', 'UNITFAT', 'UNITINJ', 'UNITVEH', 'URBRURT', 'VEHCOLOR', 'VEHMAKE', 'VEHMODEL', 'VEHTYPE', 'VEHUSE', 'VEHYEAR', 'VIN', 'VIOLS', 'WAIVED', 'WEATHER1', 'WEATHER2', 'WKZNREL', 'WKZNTYPE', 'WORKERS', 'WORKING', 'XCOORD', 'YCOORD', 'nmaction', 'unitper']\n",
      "147\n",
      "144\n",
      "['ACCDATE', 'ACCDAY', 'ACCN', 'ACCSEV', 'ACCTIME', 'ACCTYPE', 'ACCYEAR', 'ACTION', 'AGE', 'AGENCY', 'AIRBAG', 'ALCSUSP', 'ALCTEST', 'ALCTYPE', 'BRIDGE', 'BUSTYPE', 'CARGOTP', 'CFP1', 'CFP2', 'CFP3', 'CFP4', 'CFR1', 'CFR2', 'CFV1', 'CFV2', 'CHARGED', 'CITY', 'CITYNAME', 'CITYTWP', 'CMV', 'CMVCNTRY', 'CMVCONFIG', 'CMVSTATE', 'CMVTYPE', 'COUNTY', 'DAMAREA', 'DAMSEV', 'DIAGRAM', 'DIRECTN', 'DISTRACT', 'DLCLASS', 'DLENDOR1', 'DLENDOR2', 'DLENDOR3', 'DLJURIS', 'DLREST1', 'DLREST2', 'DLREST3', 'DLSTAT', 'DLSTATE', 'DLZIP', 'DOLMIN', 'DRCONTRL', 'DRUGRES', 'DRUGSUSP', 'DRUGTEST', 'DRUGTYPE', 'EJECT', 'EMGUSE', 'EVENT1', 'EVENT2', 'EVENT3', 'EVENT4', 'FATAL', 'FATWKZN', 'FIRE', 'GVWR', 'HAZPLAC', 'HAZREL', 'HITRUN', 'HITRUNV', 'INJSEV', 'INJURY', 'INS', 'INTERSECT', 'INTREL', 'INTYPE', 'LANDOWN', 'LANES', 'LEPRES', 'LIGHT', 'LOCCASE', 'LOCFHE', 'LOCWKZN', 'METHHOSP', 'MOSTHE', 'NEWBAC', 'NMLOCTN', 'NUMFAT', 'NUMINJ', 'NUMMV', 'NUMNM', 'OFFTYPE', 'ONROAD', 'PARKED', 'PHYSCND1', 'PHYSCND2', 'POSITN', 'PROPDAM', 'PTYPE', 'RDALIGN', 'RDDES', 'RDGRADE', 'RDSURF', 'RECOMND', 'REGSTATE', 'REGYEAR', 'RPN', 'RTSYS', 'RVN', 'SAFEQP1', 'SAFEQP2', 'SBUS', 'SEX', 'SPEED', 'SPEEDING', 'TOTOCC', 'TOWAWAY', 'TOWNSHIP', 'TRAILER', 'TRFCNTL', 'UNITFAT', 'UNITINJ', 'UNITVEH', 'URBRURT', 'VEHCOLOR', 'VEHMAKE', 'VEHMODEL', 'VEHTYPE', 'VEHUSE', 'VEHYEAR', 'VIN', 'VIOLS', 'WAIVED', 'WEATHER1', 'WEATHER2', 'WKZNREL', 'WKZNTYPE', 'WORKERS', 'WORKING', 'XCOORD', 'YCOORD', 'nmaction', 'unitper']\n"
     ]
    }
   ],
   "source": [
    "a_head = head + head2 + head3\n",
    "\n",
    "a_head = sorted(a_head)\n",
    "\n",
    "print(a_head)\n",
    "\n",
    "print(len(a_head))\n",
    "\n",
    "print(len(list(set(a_head))))\n",
    "\n",
    "uhead = sorted(list(set(a_head)))\n",
    "\n",
    "print(uhead)"
   ]
  },
  {
   "cell_type": "markdown",
   "metadata": {},
   "source": [
    "Now is a good time to look at everythign we have - here is the file location:\n",
    "\n",
    "/Users/yd211/Documents/GitHub/DataSet/DVSCrashData/MN Crash Data 2015 and Documentation/~$-Crash-Data-Code-Guide-2003-To-2015.docx\n",
    "\n",
    "Okay so here are somethings that we can do - some questions we can do:\n",
    "\n",
    "What age is the most represented, what age is the most over represented\n",
    "\n",
    "What ACC TIME bucket is the most prone? Challenge, waht ACC Time is the most overprone?\n",
    "\n",
    "What city has the most accidents?\n",
    "\n",
    "What year did we have the most accidents?\n",
    "\n",
    "What age is the most potent\n",
    "\n",
    "What percentage of accidents are given teho ption to take an alchol test?\n",
    "\n",
    "What are the most common primary secondar and tertiarry contributin factors and how represented are they - could help in picking a direction for what to do to help reduce crashes the most\n",
    "\n",
    "What part of the car is the most damaged?\n",
    "\n",
    "What is the ususal crash configuration? - what disagram?\n",
    "\n",
    "At what kind of light do crashses usually occour, is it really true that nightime crashes are more often? Are they more dangerous? Is the speed higher at one timezone compared to other?\n",
    "\n",
    "Any make overrepresented in crashes?\n",
    "\n",
    "what's the maximum number of deaths in a crash?\n",
    "\n",
    "Do more alcholics crash or non alcholics?\n",
    "\n",
    "Suset vs Sunrise crashes and roadway direction - any changes in that?\n",
    "\n",
    "Any vehical types that are overrepresented?\n",
    "\n",
    "Any changes when snowing - WEATHER WEATH2 use that to track for snow and rain - what percentage of MN crashes occour in snow and are they more dangeorous than non snow\n",
    "\n",
    "Other cool things that could be done reagrading map analaysis -\n",
    "\n",
    "Track all the accidents that occour when drinking alchool - roads that people who drink alchool usually take or is over represented\n",
    "\n",
    "Do analysis to find locations that have more accidents in snow than other weather events, might tell us a bit more about roads and intersections that need more work\n",
    "\n",
    "Could there be a mapping algorithm uses for weather (and possibly for drunk drivers)?\n",
    "\n",
    "Other observations - we get about 80,000 accidents each year accept 2020, where it was 50k - so total accidents that we have access to is around 450k or around half a million data points. That's a lot. We can also request data for 2022 and 2023 soon and add around 150k more accidents to our dataset.\n",
    "\n",
    "Population of MN is about 5.5 Million and has been increasing, perhaps we can do a population vs accients metric to see if the percentageg of people who get into an accident is consistent or not. Perhaps it will be.\n",
    "\n",
    "80k/5.5m = =8/550 or ~= 1.5%\n",
    "\n",
    "It would also be intresting to see how this figure compares against different states and such"
   ]
  }
 ],
 "metadata": {
  "kernelspec": {
   "display_name": "Python 3",
   "language": "python",
   "name": "python3"
  },
  "language_info": {
   "codemirror_mode": {
    "name": "ipython",
    "version": 3
   },
   "file_extension": ".py",
   "mimetype": "text/x-python",
   "name": "python",
   "nbconvert_exporter": "python",
   "pygments_lexer": "ipython3",
   "version": "3.9.6"
  }
 },
 "nbformat": 4,
 "nbformat_minor": 2
}
